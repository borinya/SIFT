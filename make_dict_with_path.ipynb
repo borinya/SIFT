{
 "cells": [
  {
   "cell_type": "code",
   "execution_count": 1,
   "metadata": {},
   "outputs": [],
   "source": [
    "import numpy as np"
   ]
  },
  {
   "cell_type": "code",
   "execution_count": 2,
   "metadata": {},
   "outputs": [
    {
     "ename": "NameError",
     "evalue": "name 'list_of_photo' is not defined",
     "output_type": "error",
     "traceback": [
      "\u001b[0;31m---------------------------------------------------------------------------\u001b[0m",
      "\u001b[0;31mNameError\u001b[0m                                 Traceback (most recent call last)",
      "\u001b[1;32m/app/SIFT/make_dict_with_path.ipynb Ячейка 2\u001b[0m in \u001b[0;36m<cell line: 5>\u001b[0;34m()\u001b[0m\n\u001b[1;32m      <a href='vscode-notebook-cell://ssh-remote%2B7b22686f73744e616d65223a225445534c412d434f4d50554954227d/app/SIFT/make_dict_with_path.ipynb#W1sdnNjb2RlLXJlbW90ZQ%3D%3D?line=0'>1</a>\u001b[0m basic_path \u001b[39m=\u001b[39m \u001b[39m\"\u001b[39m\u001b[39m/dasio/AI5758/snapshots/snapshots-2021-09-05\u001b[39m\u001b[39m\"\u001b[39m \u001b[39m# путь до размеченного дня\u001b[39;00m\n\u001b[1;32m      <a href='vscode-notebook-cell://ssh-remote%2B7b22686f73744e616d65223a225445534c412d434f4d50554954227d/app/SIFT/make_dict_with_path.ipynb#W1sdnNjb2RlLXJlbW90ZQ%3D%3D?line=2'>3</a>\u001b[0m list_of_path_to_photo \u001b[39m=\u001b[39m np\u001b[39m.\u001b[39mempty(\u001b[39m0\u001b[39m)\n\u001b[0;32m----> <a href='vscode-notebook-cell://ssh-remote%2B7b22686f73744e616d65223a225445534c412d434f4d50554954227d/app/SIFT/make_dict_with_path.ipynb#W1sdnNjb2RlLXJlbW90ZQ%3D%3D?line=4'>5</a>\u001b[0m \u001b[39mfor\u001b[39;00m i \u001b[39min\u001b[39;00m \u001b[39mrange\u001b[39m(\u001b[39mlen\u001b[39m(list_of_photo)):\n\u001b[1;32m      <a href='vscode-notebook-cell://ssh-remote%2B7b22686f73744e616d65223a225445534c412d434f4d50554954227d/app/SIFT/make_dict_with_path.ipynb#W1sdnNjb2RlLXJlbW90ZQ%3D%3D?line=5'>6</a>\u001b[0m     list_of_path_to_photo \u001b[39m=\u001b[39m np\u001b[39m.\u001b[39mappend(list_of_path_to_photo, basic_path \u001b[39m+\u001b[39m \u001b[39m\"\u001b[39m\u001b[39m/\u001b[39m\u001b[39m\"\u001b[39m \u001b[39m+\u001b[39m list_of_photo[i])\n\u001b[1;32m      <a href='vscode-notebook-cell://ssh-remote%2B7b22686f73744e616d65223a225445534c412d434f4d50554954227d/app/SIFT/make_dict_with_path.ipynb#W1sdnNjb2RlLXJlbW90ZQ%3D%3D?line=7'>8</a>\u001b[0m list_of_dates \u001b[39m=\u001b[39m np\u001b[39m.\u001b[39mempty(\u001b[39m0\u001b[39m)\n",
      "\u001b[0;31mNameError\u001b[0m: name 'list_of_photo' is not defined"
     ]
    }
   ],
   "source": [
    "basic_path = \"/dasio/AI5758/snapshots/snapshots-2021-09-05\" # путь до размеченного дня\n",
    "\n",
    "list_of_path_to_photo = np.empty(0)\n",
    "\n",
    "for i in range(len(list_of_photo)):\n",
    "    list_of_path_to_photo = np.append(list_of_path_to_photo, basic_path + \"/\" + list_of_photo[i])\n",
    "\n",
    "list_of_dates = np.empty(0)\n",
    "\n",
    "for i in range(len(list_of_photo)):\n",
    "    list_of_dates = np.append(list_of_dates,list_of_photo[i][4:23])\n",
    "unique_date = (list(set(list_of_dates)))\n",
    "\n",
    "unique_date,len(unique_date)\n",
    "\n",
    "\n",
    "dict_with_path = dict.fromkeys(unique_date)\n",
    "dict_with_path, len(dict_with_path)\n",
    "\n",
    "for i in range(len(list_of_path_to_photo)): # добавляем в конец путь\n",
    "    dict_with_path[(list_of_path_to_photo[i][49:68])] = np.append(dict_with_path[(list_of_path_to_photo[i][49:68])], (list_of_path_to_photo[i]))\n",
    "\n",
    "for key in dict_with_path.keys(): # кикаем None, которые по умолчанию родились\n",
    "    dict_with_path[key] = dict_with_path[key][1:]\n",
    "dict_with_path_final = {} # финальный где 2 пути на 1 время\n",
    "for key in dict_with_path.keys():\n",
    "    if (len(dict_with_path.get(key)) == 2):\n",
    "        dict_with_path_final[key] = dict_with_path.get(key)\n",
    "with open('/app/SIFT/dict_with_path_final.pkl', 'wb') as f:\n",
    "    pickle.dump(dict_with_path_final, f)\n",
    "\n"
   ]
  },
  {
   "cell_type": "code",
   "execution_count": 3,
   "metadata": {},
   "outputs": [
    {
     "ename": "NameError",
     "evalue": "name 'dict_with_path_final' is not defined",
     "output_type": "error",
     "traceback": [
      "\u001b[0;31m---------------------------------------------------------------------------\u001b[0m",
      "\u001b[0;31mNameError\u001b[0m                                 Traceback (most recent call last)",
      "\u001b[1;32m/app/SIFT/make_dict_with_path.ipynb Ячейка 3\u001b[0m in \u001b[0;36m<cell line: 1>\u001b[0;34m()\u001b[0m\n\u001b[0;32m----> <a href='vscode-notebook-cell://ssh-remote%2B7b22686f73744e616d65223a225445534c412d434f4d50554954227d/app/SIFT/make_dict_with_path.ipynb#W2sdnNjb2RlLXJlbW90ZQ%3D%3D?line=0'>1</a>\u001b[0m \u001b[39mprint\u001b[39m(dict_with_path_final)\n",
      "\u001b[0;31mNameError\u001b[0m: name 'dict_with_path_final' is not defined"
     ]
    }
   ],
   "source": [
    "print(dict_with_path_final)\n"
   ]
  }
 ],
 "metadata": {
  "kernelspec": {
   "display_name": "Python 3 (ipykernel)",
   "language": "python",
   "name": "python3"
  },
  "language_info": {
   "codemirror_mode": {
    "name": "ipython",
    "version": 3
   },
   "file_extension": ".py",
   "mimetype": "text/x-python",
   "name": "python",
   "nbconvert_exporter": "python",
   "pygments_lexer": "ipython3",
   "version": "3.8.13"
  },
  "orig_nbformat": 4
 },
 "nbformat": 4,
 "nbformat_minor": 2
}
